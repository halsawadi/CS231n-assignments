{
 "cells": [
  {
   "cell_type": "markdown",
   "metadata": {},
   "source": [
    "# Multiclass Support Vector Machine exercise\n",
    "\n",
    "*Complete and hand in this completed worksheet (including its outputs and any supporting code outside of the worksheet) with your assignment submission. For more details see the [assignments page](http://vision.stanford.edu/teaching/cs231n/assignments.html) on the course website.*\n",
    "\n",
    "In this exercise you will:\n",
    "    \n",
    "- implement a fully-vectorized **loss function** for the SVM\n",
    "- implement the fully-vectorized expression for its **analytic gradient**\n",
    "- **check your implementation** using numerical gradient\n",
    "- use a validation set to **tune the learning rate and regularization** strength\n",
    "- **optimize** the loss function with **SGD**\n",
    "- **visualize** the final learned weights\n"
   ]
  },
  {
   "cell_type": "code",
   "execution_count": 2,
   "metadata": {
    "collapsed": false
   },
   "outputs": [],
   "source": [
    "# Run some setup code for this notebook.\n",
    "\n",
    "import random\n",
    "import numpy as np\n",
    "from cs231n.data_utils import load_CIFAR10\n",
    "import matplotlib.pyplot as plt\n",
    "\n",
    "from __future__ import print_function\n",
    "\n",
    "# This is a bit of magic to make matplotlib figures appear inline in the\n",
    "# notebook rather than in a new window.\n",
    "%matplotlib inline\n",
    "plt.rcParams['figure.figsize'] = (10.0, 8.0) # set default size of plots\n",
    "plt.rcParams['image.interpolation'] = 'nearest'\n",
    "plt.rcParams['image.cmap'] = 'gray'\n",
    "\n",
    "# Some more magic so that the notebook will reload external python modules;\n",
    "# see http://stackoverflow.com/questions/1907993/autoreload-of-modules-in-ipython\n",
    "%load_ext autoreload\n",
    "%autoreload 2"
   ]
  },
  {
   "cell_type": "markdown",
   "metadata": {},
   "source": [
    "## CIFAR-10 Data Loading and Preprocessing"
   ]
  },
  {
   "cell_type": "code",
   "execution_count": 4,
   "metadata": {
    "collapsed": false
   },
   "outputs": [
    {
     "name": "stdout",
     "output_type": "stream",
     "text": [
      "Training data shape:  (50000, 32, 32, 3)\nTraining labels shape:  (50000,)\nTest data shape:  (10000, 32, 32, 3)\nTest labels shape:  (10000,)\n"
     ]
    }
   ],
   "source": [
    "# Load the raw CIFAR-10 data.\n",
    "cifar10_dir = 'cs231n/datasets/cifar-10-batches-py'\n",
    "X_train, y_train, X_test, y_test = load_CIFAR10(cifar10_dir)\n",
    "\n",
    "# As a sanity check, we print out the size of the training and test data.\n",
    "print('Training data shape: ', X_train.shape)\n",
    "print('Training labels shape: ', y_train.shape)\n",
    "print('Test data shape: ', X_test.shape)\n",
    "print('Test labels shape: ', y_test.shape)"
   ]
  },
  {
   "cell_type": "code",
   "execution_count": 5,
   "metadata": {
    "collapsed": false
   },
   "outputs": [],
   "source": [
    "# Visualize some examples from the dataset.\n",
    "# We show a few examples of training images from each class.\n",
    "classes = ['plane', 'car', 'bird', 'cat', 'deer', 'dog', 'frog', 'horse', 'ship', 'truck']\n",
    "num_classes = len(classes)\n",
    "samples_per_class = 7\n",
    "for y, cls in enumerate(classes):\n",
    "    idxs = np.flatnonzero(y_train == y)\n",
    "    idxs = np.random.choice(idxs, samples_per_class, replace=False)\n",
    "    for i, idx in enumerate(idxs):\n",
    "        plt_idx = i * num_classes + y + 1\n",
    "        plt.subplot(samples_per_class, num_classes, plt_idx)\n",
    "        plt.imshow(X_train[idx].astype('uint8'))\n",
    "        plt.axis('off')\n",
    "        if i == 0:\n",
    "            plt.title(cls)\n",
    "plt.show()"
   ]
  },
  {
   "cell_type": "code",
   "execution_count": 6,
   "metadata": {
    "collapsed": false
   },
   "outputs": [
    {
     "name": "stdout",
     "output_type": "stream",
     "text": [
      "Train data shape:  (49000, 32, 32, 3)\nTrain labels shape:  (49000,)\nValidation data shape:  (1000, 32, 32, 3)\nValidation labels shape:  (1000,)\nTest data shape:  (1000, 32, 32, 3)\nTest labels shape:  (1000,)\n"
     ]
    }
   ],
   "source": [
    "# Split the data into train, val, and test sets. In addition we will\n",
    "# create a small development set as a subset of the training data;\n",
    "# we can use this for development so our code runs faster.\n",
    "num_training = 49000\n",
    "num_validation = 1000\n",
    "num_test = 1000\n",
    "num_dev = 500\n",
    "\n",
    "# Our validation set will be num_validation points from the original\n",
    "# training set.\n",
    "mask = range(num_training, num_training + num_validation)\n",
    "X_val = X_train[mask]\n",
    "y_val = y_train[mask]\n",
    "\n",
    "# Our training set will be the first num_train points from the original\n",
    "# training set.\n",
    "mask = range(num_training)\n",
    "X_train = X_train[mask]\n",
    "y_train = y_train[mask]\n",
    "\n",
    "# We will also make a development set, which is a small subset of\n",
    "# the training set.\n",
    "mask = np.random.choice(num_training, num_dev, replace=False)\n",
    "X_dev = X_train[mask]\n",
    "y_dev = y_train[mask]\n",
    "\n",
    "# We use the first num_test points of the original test set as our\n",
    "# test set.\n",
    "mask = range(num_test)\n",
    "X_test = X_test[mask]\n",
    "y_test = y_test[mask]\n",
    "\n",
    "print('Train data shape: ', X_train.shape)\n",
    "print('Train labels shape: ', y_train.shape)\n",
    "print('Validation data shape: ', X_val.shape)\n",
    "print('Validation labels shape: ', y_val.shape)\n",
    "print('Test data shape: ', X_test.shape)\n",
    "print('Test labels shape: ', y_test.shape)"
   ]
  },
  {
   "cell_type": "code",
   "execution_count": 7,
   "metadata": {
    "collapsed": false
   },
   "outputs": [
    {
     "name": "stdout",
     "output_type": "stream",
     "text": [
      "Training data shape:  (49000, 3072)\nValidation data shape:  (1000, 3072)\nTest data shape:  (1000, 3072)\ndev data shape:  (500, 3072)\n"
     ]
    }
   ],
   "source": [
    "# Preprocessing: reshape the image data into rows\n",
    "X_train = np.reshape(X_train, (X_train.shape[0], -1))\n",
    "X_val = np.reshape(X_val, (X_val.shape[0], -1))\n",
    "X_test = np.reshape(X_test, (X_test.shape[0], -1))\n",
    "X_dev = np.reshape(X_dev, (X_dev.shape[0], -1))\n",
    "\n",
    "# As a sanity check, print out the shapes of the data\n",
    "print('Training data shape: ', X_train.shape)\n",
    "print('Validation data shape: ', X_val.shape)\n",
    "print('Test data shape: ', X_test.shape)\n",
    "print('dev data shape: ', X_dev.shape)"
   ]
  },
  {
   "cell_type": "code",
   "execution_count": 8,
   "metadata": {
    "collapsed": false
   },
   "outputs": [
    {
     "name": "stdout",
     "output_type": "stream",
     "text": [
      "[ 130.64189796  135.98173469  132.47391837  130.05569388  135.34804082\n  131.75402041  130.96055102  136.14328571  132.47636735  131.48467347]\n"
     ]
    },
    {
     "data": {
      "image/png": "[encoded data removed]",
      "text/plain": [
       "<matplotlib.figure.Figure at 0x7f79a6d82400>"
      ]
     },
     "metadata": {},
     "output_type": "display_data"
    }
   ],
   "source": [
    "# Preprocessing: subtract the mean image\n",
    "# first: compute the image mean based on the training data\n",
    "mean_image = np.mean(X_train, axis=0)\n",
    "print(mean_image[:10]) # print a few of the elements\n",
    "plt.figure(figsize=(4,4))\n",
    "plt.imshow(mean_image.reshape((32,32,3)).astype('uint8')) # visualize the mean image\n",
    "plt.show()"
   ]
  },
  {
   "cell_type": "code",
   "execution_count": 9,
   "metadata": {
    "collapsed": false
   },
   "outputs": [],
   "source": [
    "# second: subtract the mean image from train and test data\n",
    "X_train -= mean_image\n",
    "X_val -= mean_image\n",
    "X_test -= mean_image\n",
    "X_dev -= mean_image"
   ]
  },
  {
   "cell_type": "code",
   "execution_count": 10,
   "metadata": {
    "collapsed": false
   },
   "outputs": [
    {
     "name": "stdout",
     "output_type": "stream",
     "text": [
      "(49000, 3073) (1000, 3073) (1000, 3073) (500, 3073)\n"
     ]
    }
   ],
   "source": [
    "# third: append the bias dimension of ones (i.e. bias trick) so that our SVM\n",
    "# only has to worry about optimizing a single weight matrix W.\n",
    "X_train = np.hstack([X_train, np.ones((X_train.shape[0], 1))])\n",
    "X_val = np.hstack([X_val, np.ones((X_val.shape[0], 1))])\n",
    "X_test = np.hstack([X_test, np.ones((X_test.shape[0], 1))])\n",
    "X_dev = np.hstack([X_dev, np.ones((X_dev.shape[0], 1))])\n",
    "\n",
    "print(X_train.shape, X_val.shape, X_test.shape, X_dev.shape)"
   ]
  },
  {
   "cell_type": "markdown",
   "metadata": {},
   "source": [
    "## SVM Classifier\n",
    "\n",
    "Your code for this section will all be written inside **cs231n/classifiers/linear_svm.py**. \n",
    "\n",
    "As you can see, we have prefilled the function `compute_loss_naive` which uses for loops to evaluate the multiclass SVM loss function. "
   ]
  },
  {
   "cell_type": "code",
   "execution_count": 23,
   "metadata": {
    "collapsed": false
   },
   "outputs": [
    {
     "name": "stdout",
     "output_type": "stream",
     "text": [
      "loss: 9.301973\n"
     ]
    }
   ],
   "source": [
    "# Evaluate the naive implementation of the loss we provided for you:\n",
    "from cs231n.classifiers.linear_svm import svm_loss_naive\n",
    "import time\n",
    "\n",
    "# generate a random SVM weight matrix of small numbers\n",
    "W = np.random.randn(3073, 10) * 0.0001 \n",
    "\n",
    "loss, grad = svm_loss_naive(W, X_dev, y_dev, 0.000005)\n",
    "print('loss: %f' % (loss, ))"
   ]
  },
  {
   "cell_type": "markdown",
   "metadata": {},
   "source": [
    "The `grad` returned from the function above is right now all zero. Derive and implement the gradient for the SVM cost function and implement it inline inside the function `svm_loss_naive`. You will find it helpful to interleave your new code inside the existing function.\n",
    "\n",
    "To check that you have correctly implemented the gradient correctly, you can numerically estimate the gradient of the loss function and compare the numeric estimate to the gradient that you computed. We have provided code that does this for you:"
   ]
  },
  {
   "cell_type": "code",
   "execution_count": 24,
   "metadata": {
    "collapsed": false
   },
   "outputs": [
    {
     "name": "stdout",
     "output_type": "stream",
     "text": [
      "numerical: 11.078214 analytic: 11.078214, relative error: 1.010522e-11\nnumerical: -33.698678 analytic: -33.698678, relative error: 1.165357e-11"
     ]
    },
    {
     "name": "stdout",
     "output_type": "stream",
     "text": [
      "\nnumerical: 23.378335 analytic: 23.378335, relative error: 2.612829e-12"
     ]
    },
    {
     "name": "stdout",
     "output_type": "stream",
     "text": [
      "\nnumerical: 3.405883 analytic: 3.405883, relative error: 7.231535e-11"
     ]
    },
    {
     "name": "stdout",
     "output_type": "stream",
     "text": [
      "\nnumerical: -1.020416 analytic: -1.020416, relative error: 1.771661e-11"
     ]
    },
    {
     "name": "stdout",
     "output_type": "stream",
     "text": [
      "\nnumerical: 0.403328 analytic: 0.403328, relative error: 1.014020e-09"
     ]
    },
    {
     "name": "stdout",
     "output_type": "stream",
     "text": [
      "\nnumerical: 20.843911 analytic: 20.843911, relative error: 3.374104e-12"
     ]
    },
    {
     "name": "stdout",
     "output_type": "stream",
     "text": [
      "\nnumerical: -57.791906 analytic: -57.791906, relative error: 1.096946e-12"
     ]
    },
    {
     "name": "stdout",
     "output_type": "stream",
     "text": [
      "\nnumerical: -3.582227 analytic: -3.553076, relative error: 4.085413e-03"
     ]
    },
    {
     "name": "stdout",
     "output_type": "stream",
     "text": [
      "\nnumerical: -21.099818 analytic: -21.099818, relative error: 8.406787e-12"
     ]
    },
    {
     "name": "stdout",
     "output_type": "stream",
     "text": [
      "\nnumerical: -6.035359 analytic: -5.994477, relative error: 3.398394e-03"
     ]
    },
    {
     "name": "stdout",
     "output_type": "stream",
     "text": [
      "\nnumerical: 12.850043 analytic: 12.850043, relative error: 1.869039e-11"
     ]
    },
    {
     "name": "stdout",
     "output_type": "stream",
     "text": [
      "\nnumerical: 4.081844 analytic: 4.081844, relative error: 1.191109e-10"
     ]
    },
    {
     "name": "stdout",
     "output_type": "stream",
     "text": [
      "\nnumerical: -1.310533 analytic: -1.310533, relative error: 4.371938e-10"
     ]
    },
    {
     "name": "stdout",
     "output_type": "stream",
     "text": [
      "\nnumerical: -0.700564 analytic: -0.700564, relative error: 6.046091e-10"
     ]
    },
    {
     "name": "stdout",
     "output_type": "stream",
     "text": [
      "\nnumerical: 25.282690 analytic: 25.282690, relative error: 6.112533e-12"
     ]
    },
    {
     "name": "stdout",
     "output_type": "stream",
     "text": [
      "\nnumerical: 8.305621 analytic: 8.305621, relative error: 1.741170e-11"
     ]
    },
    {
     "name": "stdout",
     "output_type": "stream",
     "text": [
      "\nnumerical: 23.976463 analytic: 23.976463, relative error: 1.341132e-11"
     ]
    },
    {
     "name": "stdout",
     "output_type": "stream",
     "text": [
      "\nnumerical: -23.518604 analytic: -23.518604, relative error: 1.534042e-11"
     ]
    },
    {
     "name": "stdout",
     "output_type": "stream",
     "text": [
      "\nnumerical: 3.973032 analytic: 3.973032, relative error: 4.178613e-11"
     ]
    },
    {
     "name": "stdout",
     "output_type": "stream",
     "text": [
      "\n"
     ]
    }
   ],
   "source": [
    "# Once you've implemented the gradient, recompute it with the code below\n",
    "# and gradient check it with the function we provided for you\n",
    "\n",
    "# Compute the loss and its gradient at W.\n",
    "loss, grad = svm_loss_naive(W, X_dev, y_dev, 0.0)\n",
    "\n",
    "# Numerically compute the gradient along several randomly chosen dimensions, and\n",
    "# compare them with your analytically computed gradient. The numbers should match\n",
    "# almost exactly along all dimensions.\n",
    "from cs231n.gradient_check import grad_check_sparse\n",
    "f = lambda w: svm_loss_naive(w, X_dev, y_dev, 0.0)[0]\n",
    "grad_numerical = grad_check_sparse(f, W, grad)\n",
    "\n",
    "# do the gradient check once again with regularization turned on\n",
    "# you didn't forget the regularization gradient did you?\n",
    "loss, grad = svm_loss_naive(W, X_dev, y_dev, 5e1)\n",
    "f = lambda w: svm_loss_naive(w, X_dev, y_dev, 5e1)[0]\n",
    "grad_numerical = grad_check_sparse(f, W, grad)"
   ]
  },
  {
   "cell_type": "markdown",
   "metadata": {},
   "source": [
    "### Inline Question 1:\n",
    "It is possible that once in a while a dimension in the gradcheck will not match exactly. What could such a discrepancy be caused by? Is it a reason for concern? What is a simple example in one dimension where a gradient check could fail? *Hint: the SVM loss function is not strictly speaking differentiable*\n",
    "\n",
    "**Your Answer:** *fill this in.*"
   ]
  },
  {
   "cell_type": "code",
   "execution_count": 25,
   "metadata": {
    "collapsed": false
   },
   "outputs": [
    {
     "name": "stdout",
     "output_type": "stream",
     "text": [
      "Naive loss: 9.301973e+00 computed in 0.203744s\nVectorized loss: 9.301973e+00 computed in 0.014904s\ndifference: -0.000000\n"
     ]
    }
   ],
   "source": [
    "# Next implement the function svm_loss_vectorized; for now only compute the loss;\n",
    "# we will implement the gradient in a moment.\n",
    "tic = time.time()\n",
    "loss_naive, grad_naive = svm_loss_naive(W, X_dev, y_dev, 0.000005)\n",
    "toc = time.time()\n",
    "print('Naive loss: %e computed in %fs' % (loss_naive, toc - tic))\n",
    "\n",
    "from cs231n.classifiers.linear_svm import svm_loss_vectorized\n",
    "tic = time.time()\n",
    "loss_vectorized, _ = svm_loss_vectorized(W, X_dev, y_dev, 0.000005)\n",
    "toc = time.time()\n",
    "print('Vectorized loss: %e computed in %fs' % (loss_vectorized, toc - tic))\n",
    "\n",
    "# The losses should match but your vectorized implementation should be much faster.\n",
    "print('difference: %f' % (loss_naive - loss_vectorized))"
   ]
  },
  {
   "cell_type": "code",
   "execution_count": 26,
   "metadata": {
    "collapsed": false
   },
   "outputs": [
    {
     "name": "stdout",
     "output_type": "stream",
     "text": [
      "Naive loss and gradient: computed in 0.258225s\nVectorized loss and gradient: computed in 0.021018s\ndifference: 0.000000\n"
     ]
    }
   ],
   "source": [
    "# Complete the implementation of svm_loss_vectorized, and compute the gradient\n",
    "# of the loss function in a vectorized way.\n",
    "\n",
    "# The naive implementation and the vectorized implementation should match, but\n",
    "# the vectorized version should still be much faster.\n",
    "tic = time.time()\n",
    "_, grad_naive = svm_loss_naive(W, X_dev, y_dev, 0.000005)\n",
    "toc = time.time()\n",
    "print('Naive loss and gradient: computed in %fs' % (toc - tic))\n",
    "\n",
    "tic = time.time()\n",
    "_, grad_vectorized = svm_loss_vectorized(W, X_dev, y_dev, 0.000005)\n",
    "toc = time.time()\n",
    "print('Vectorized loss and gradient: computed in %fs' % (toc - tic))\n",
    "\n",
    "# The loss is a single number, so it is easy to compare the values computed\n",
    "# by the two implementations. The gradient on the other hand is a matrix, so\n",
    "# we use the Frobenius norm to compare them.\n",
    "difference = np.linalg.norm(grad_naive - grad_vectorized, ord='fro')\n",
    "print('difference: %f' % difference)"
   ]
  },
  {
   "cell_type": "markdown",
   "metadata": {},
   "source": [
    "### Stochastic Gradient Descent\n",
    "\n",
    "We now have vectorized and efficient expressions for the loss, the gradient and our gradient matches the numerical gradient. We are therefore ready to do SGD to minimize the loss."
   ]
  },
  {
   "cell_type": "code",
   "execution_count": 27,
   "metadata": {
    "collapsed": true
   },
   "outputs": [
    {
     "name": "stdout",
     "output_type": "stream",
     "text": [
      "iteration 0 / 1500: loss 791.389001\niteration 100 / 1500: loss 288.007722"
     ]
    },
    {
     "name": "stdout",
     "output_type": "stream",
     "text": [
      "\niteration 200 / 1500: loss 108.097236"
     ]
    },
    {
     "name": "stdout",
     "output_type": "stream",
     "text": [
      "\niteration 300 / 1500: loss 42.713827"
     ]
    },
    {
     "name": "stdout",
     "output_type": "stream",
     "text": [
      "\niteration 400 / 1500: loss 18.802526"
     ]
    },
    {
     "name": "stdout",
     "output_type": "stream",
     "text": [
      "\niteration 500 / 1500: loss 10.116290"
     ]
    },
    {
     "name": "stdout",
     "output_type": "stream",
     "text": [
      "\niteration 600 / 1500: loss 7.456649"
     ]
    },
    {
     "name": "stdout",
     "output_type": "stream",
     "text": [
      "\niteration 700 / 1500: loss 6.066003"
     ]
    },
    {
     "name": "stdout",
     "output_type": "stream",
     "text": [
      "\niteration 800 / 1500: loss 5.572408"
     ]
    },
    {
     "name": "stdout",
     "output_type": "stream",
     "text": [
      "\niteration 900 / 1500: loss 5.427309"
     ]
    },
    {
     "name": "stdout",
     "output_type": "stream",
     "text": [
      "\niteration 1000 / 1500: loss 5.309659"
     ]
    },
    {
     "name": "stdout",
     "output_type": "stream",
     "text": [
      "\niteration 1100 / 1500: loss 6.107818"
     ]
    },
    {
     "name": "stdout",
     "output_type": "stream",
     "text": [
      "\niteration 1200 / 1500: loss 5.210112"
     ]
    },
    {
     "name": "stdout",
     "output_type": "stream",
     "text": [
      "\niteration 1300 / 1500: loss 4.970009"
     ]
    },
    {
     "name": "stdout",
     "output_type": "stream",
     "text": [
      "\niteration 1400 / 1500: loss 5.368609"
     ]
    },
    {
     "name": "stdout",
     "output_type": "stream",
     "text": [
      "\nThat took 7.366766s"
     ]
    },
    {
     "name": "stdout",
     "output_type": "stream",
     "text": [
      "\n"
     ]
    }
   ],
   "source": [
    "# In the file linear_classifier.py, implement SGD in the function\n",
    "# LinearClassifier.train() and then run it with the code below.\n",
    "from cs231n.classifiers import LinearSVM\n",
    "svm = LinearSVM()\n",
    "tic = time.time()\n",
    "loss_hist = svm.train(X_train, y_train, learning_rate=1e-7, reg=2.5e4,\n",
    "                      num_iters=1500, verbose=True)\n",
    "toc = time.time()\n",
    "print('That took %fs' % (toc - tic))"
   ]
  },
  {
   "cell_type": "code",
   "execution_count": 28,
   "metadata": {
    "collapsed": false
   },
   "outputs": [
    {
     "data": {
      "image/png": "[encoded data removed]",
      "text/plain": [
       "<matplotlib.figure.Figure at 0x7f79a4416518>"
      ]
     },
     "metadata": {},
     "output_type": "display_data"
    }
   ],
   "source": [
    "# A useful debugging strategy is to plot the loss as a function of\n",
    "# iteration number:\n",
    "plt.plot(loss_hist)\n",
    "plt.xlabel('Iteration number')\n",
    "plt.ylabel('Loss value')\n",
    "plt.show()"
   ]
  },
  {
   "cell_type": "code",
   "execution_count": 29,
   "metadata": {
    "collapsed": false
   },
   "outputs": [
    {
     "name": "stdout",
     "output_type": "stream",
     "text": [
      "training accuracy: 0.367714\nvalidation accuracy: 0.376000\n"
     ]
    }
   ],
   "source": [
    "# Write the LinearSVM.predict function and evaluate the performance on both the\n",
    "# training and validation set\n",
    "y_train_pred = svm.predict(X_train)\n",
    "print('training accuracy: %f' % (np.mean(y_train == y_train_pred), ))\n",
    "y_val_pred = svm.predict(X_val)\n",
    "print('validation accuracy: %f' % (np.mean(y_val == y_val_pred), ))"
   ]
  },
  {
   "cell_type": "code",
   "execution_count": 35,
   "metadata": {
    "collapsed": false
   },
   "outputs": [
    {
     "name": "stdout",
     "output_type": "stream",
     "text": [
      "iteration 0 / 1500: loss 245820.108285\niteration 100 / 1500: loss 9.279079"
     ]
    },
    {
     "name": "stdout",
     "output_type": "stream",
     "text": [
      "\niteration 200 / 1500: loss 9.479798"
     ]
    },
    {
     "name": "stdout",
     "output_type": "stream",
     "text": [
      "\niteration 300 / 1500: loss 9.575965"
     ]
    },
    {
     "name": "stdout",
     "output_type": "stream",
     "text": [
      "\niteration 400 / 1500: loss 9.368352"
     ]
    },
    {
     "name": "stdout",
     "output_type": "stream",
     "text": [
      "\niteration 500 / 1500: loss 9.344691"
     ]
    },
    {
     "name": "stdout",
     "output_type": "stream",
     "text": [
      "\niteration 600 / 1500: loss 9.800338"
     ]
    },
    {
     "name": "stdout",
     "output_type": "stream",
     "text": [
      "\niteration 700 / 1500: loss 9.347788"
     ]
    },
    {
     "name": "stdout",
     "output_type": "stream",
     "text": [
      "\niteration 800 / 1500: loss 9.581514"
     ]
    },
    {
     "name": "stdout",
     "output_type": "stream",
     "text": [
      "\niteration 900 / 1500: loss 9.235441"
     ]
    },
    {
     "name": "stdout",
     "output_type": "stream",
     "text": [
      "\niteration 1000 / 1500: loss 9.515955"
     ]
    },
    {
     "name": "stdout",
     "output_type": "stream",
     "text": [
      "\niteration 1100 / 1500: loss 9.727397"
     ]
    },
    {
     "name": "stdout",
     "output_type": "stream",
     "text": [
      "\niteration 1200 / 1500: loss 9.642227"
     ]
    },
    {
     "name": "stdout",
     "output_type": "stream",
     "text": [
      "\niteration 1300 / 1500: loss 9.562504"
     ]
    },
    {
     "name": "stdout",
     "output_type": "stream",
     "text": [
      "\niteration 1400 / 1500: loss 9.484853"
     ]
    },
    {
     "name": "stdout",
     "output_type": "stream",
     "text": [
      "\niteration 0 / 1500: loss 3054.041807"
     ]
    },
    {
     "name": "stdout",
     "output_type": "stream",
     "text": [
      "\niteration 100 / 1500: loss 59.440117"
     ]
    },
    {
     "name": "stdout",
     "output_type": "stream",
     "text": [
      "\niteration 200 / 1500: loss 7.060817"
     ]
    },
    {
     "name": "stdout",
     "output_type": "stream",
     "text": [
      "\niteration 300 / 1500: loss 5.931695"
     ]
    },
    {
     "name": "stdout",
     "output_type": "stream",
     "text": [
      "\niteration 400 / 1500: loss 5.795796"
     ]
    },
    {
     "name": "stdout",
     "output_type": "stream",
     "text": [
      "\niteration 500 / 1500: loss 6.384361"
     ]
    },
    {
     "name": "stdout",
     "output_type": "stream",
     "text": [
      "\niteration 600 / 1500: loss 5.916426"
     ]
    },
    {
     "name": "stdout",
     "output_type": "stream",
     "text": [
      "\niteration 700 / 1500: loss 6.283226"
     ]
    },
    {
     "name": "stdout",
     "output_type": "stream",
     "text": [
      "\niteration 800 / 1500: loss 5.935842"
     ]
    },
    {
     "name": "stdout",
     "output_type": "stream",
     "text": [
      "\niteration 900 / 1500: loss 6.026843"
     ]
    },
    {
     "name": "stdout",
     "output_type": "stream",
     "text": [
      "\niteration 1000 / 1500: loss 6.206829"
     ]
    },
    {
     "name": "stdout",
     "output_type": "stream",
     "text": [
      "\niteration 1100 / 1500: loss 5.784543"
     ]
    },
    {
     "name": "stdout",
     "output_type": "stream",
     "text": [
      "\niteration 1200 / 1500: loss 5.541193"
     ]
    },
    {
     "name": "stdout",
     "output_type": "stream",
     "text": [
      "\niteration 1300 / 1500: loss 6.333409"
     ]
    },
    {
     "name": "stdout",
     "output_type": "stream",
     "text": [
      "\niteration 1400 / 1500: loss 5.951209"
     ]
    },
    {
     "name": "stdout",
     "output_type": "stream",
     "text": [
      "\niteration 0 / 1500: loss 6104.314152"
     ]
    },
    {
     "name": "stdout",
     "output_type": "stream",
     "text": [
      "\niteration 100 / 1500: loss 7.850169"
     ]
    },
    {
     "name": "stdout",
     "output_type": "stream",
     "text": [
      "\niteration 200 / 1500: loss 6.109805"
     ]
    },
    {
     "name": "stdout",
     "output_type": "stream",
     "text": [
      "\niteration 300 / 1500: loss 5.863891"
     ]
    },
    {
     "name": "stdout",
     "output_type": "stream",
     "text": [
      "\niteration 400 / 1500: loss 6.074208"
     ]
    },
    {
     "name": "stdout",
     "output_type": "stream",
     "text": [
      "\niteration 500 / 1500: loss 5.936840"
     ]
    },
    {
     "name": "stdout",
     "output_type": "stream",
     "text": [
      "\niteration 600 / 1500: loss 6.543848"
     ]
    },
    {
     "name": "stdout",
     "output_type": "stream",
     "text": [
      "\niteration 700 / 1500: loss 6.205425"
     ]
    },
    {
     "name": "stdout",
     "output_type": "stream",
     "text": [
      "\niteration 800 / 1500: loss 6.502171"
     ]
    },
    {
     "name": "stdout",
     "output_type": "stream",
     "text": [
      "\niteration 900 / 1500: loss 6.574288"
     ]
    },
    {
     "name": "stdout",
     "output_type": "stream",
     "text": [
      "\niteration 1000 / 1500: loss 6.037941"
     ]
    },
    {
     "name": "stdout",
     "output_type": "stream",
     "text": [
      "\niteration 1100 / 1500: loss 6.221748"
     ]
    },
    {
     "name": "stdout",
     "output_type": "stream",
     "text": [
      "\niteration 1200 / 1500: loss 5.994686"
     ]
    },
    {
     "name": "stdout",
     "output_type": "stream",
     "text": [
      "\niteration 1300 / 1500: loss 6.051448"
     ]
    },
    {
     "name": "stdout",
     "output_type": "stream",
     "text": [
      "\niteration 1400 / 1500: loss 6.635258"
     ]
    },
    {
     "name": "stdout",
     "output_type": "stream",
     "text": [
      "\niteration 0 / 1500: loss 12470.468164"
     ]
    },
    {
     "name": "stdout",
     "output_type": "stream",
     "text": [
      "\niteration 100 / 1500: loss 7.093713"
     ]
    },
    {
     "name": "stdout",
     "output_type": "stream",
     "text": [
      "\niteration 200 / 1500: loss 7.028280"
     ]
    },
    {
     "name": "stdout",
     "output_type": "stream",
     "text": [
      "\niteration 300 / 1500: loss 6.867879"
     ]
    },
    {
     "name": "stdout",
     "output_type": "stream",
     "text": [
      "\niteration 400 / 1500: loss 7.189195"
     ]
    },
    {
     "name": "stdout",
     "output_type": "stream",
     "text": [
      "\niteration 500 / 1500: loss 6.858010"
     ]
    },
    {
     "name": "stdout",
     "output_type": "stream",
     "text": [
      "\niteration 600 / 1500: loss 7.101275"
     ]
    },
    {
     "name": "stdout",
     "output_type": "stream",
     "text": [
      "\niteration 700 / 1500: loss 7.201928"
     ]
    },
    {
     "name": "stdout",
     "output_type": "stream",
     "text": [
      "\niteration 800 / 1500: loss 6.571403"
     ]
    },
    {
     "name": "stdout",
     "output_type": "stream",
     "text": [
      "\niteration 900 / 1500: loss 7.005205"
     ]
    },
    {
     "name": "stdout",
     "output_type": "stream",
     "text": [
      "\niteration 1000 / 1500: loss 7.012225"
     ]
    },
    {
     "name": "stdout",
     "output_type": "stream",
     "text": [
      "\niteration 1100 / 1500: loss 7.192742"
     ]
    },
    {
     "name": "stdout",
     "output_type": "stream",
     "text": [
      "\niteration 1200 / 1500: loss 6.869363"
     ]
    },
    {
     "name": "stdout",
     "output_type": "stream",
     "text": [
      "\niteration 1300 / 1500: loss 6.931293"
     ]
    },
    {
     "name": "stdout",
     "output_type": "stream",
     "text": [
      "\niteration 1400 / 1500: loss 6.945075"
     ]
    },
    {
     "name": "stdout",
     "output_type": "stream",
     "text": [
      "\niteration 0 / 1500: loss 24517.362498"
     ]
    },
    {
     "name": "stdout",
     "output_type": "stream",
     "text": [
      "\niteration 100 / 1500: loss 7.362655"
     ]
    },
    {
     "name": "stdout",
     "output_type": "stream",
     "text": [
      "\niteration 200 / 1500: loss 7.332531"
     ]
    },
    {
     "name": "stdout",
     "output_type": "stream",
     "text": [
      "\niteration 300 / 1500: loss 7.580408"
     ]
    },
    {
     "name": "stdout",
     "output_type": "stream",
     "text": [
      "\niteration 400 / 1500: loss 7.881604"
     ]
    },
    {
     "name": "stdout",
     "output_type": "stream",
     "text": [
      "\niteration 500 / 1500: loss 7.189339"
     ]
    },
    {
     "name": "stdout",
     "output_type": "stream",
     "text": [
      "\niteration 600 / 1500: loss 7.747746"
     ]
    },
    {
     "name": "stdout",
     "output_type": "stream",
     "text": [
      "\niteration 700 / 1500: loss 7.289166"
     ]
    },
    {
     "name": "stdout",
     "output_type": "stream",
     "text": [
      "\niteration 800 / 1500: loss 8.199588"
     ]
    },
    {
     "name": "stdout",
     "output_type": "stream",
     "text": [
      "\niteration 900 / 1500: loss 7.718208"
     ]
    },
    {
     "name": "stdout",
     "output_type": "stream",
     "text": [
      "\niteration 1000 / 1500: loss 7.678196"
     ]
    },
    {
     "name": "stdout",
     "output_type": "stream",
     "text": [
      "\niteration 1100 / 1500: loss 7.350710"
     ]
    },
    {
     "name": "stdout",
     "output_type": "stream",
     "text": [
      "\niteration 1200 / 1500: loss 7.425039"
     ]
    },
    {
     "name": "stdout",
     "output_type": "stream",
     "text": [
      "\niteration 1300 / 1500: loss 7.449645"
     ]
    },
    {
     "name": "stdout",
     "output_type": "stream",
     "text": [
      "\niteration 1400 / 1500: loss 7.176206"
     ]
    },
    {
     "name": "stdout",
     "output_type": "stream",
     "text": [
      "\niteration 0 / 1500: loss 325.877965"
     ]
    },
    {
     "name": "stdout",
     "output_type": "stream",
     "text": [
      "\niteration 100 / 1500: loss 213.455358"
     ]
    },
    {
     "name": "stdout",
     "output_type": "stream",
     "text": [
      "\niteration 200 / 1500: loss 144.133716"
     ]
    },
    {
     "name": "stdout",
     "output_type": "stream",
     "text": [
      "\niteration 300 / 1500: loss 96.866083"
     ]
    },
    {
     "name": "stdout",
     "output_type": "stream",
     "text": [
      "\niteration 400 / 1500: loss 66.588131"
     ]
    },
    {
     "name": "stdout",
     "output_type": "stream",
     "text": [
      "\niteration 500 / 1500: loss 45.723897"
     ]
    },
    {
     "name": "stdout",
     "output_type": "stream",
     "text": [
      "\niteration 600 / 1500: loss 32.305631"
     ]
    },
    {
     "name": "stdout",
     "output_type": "stream",
     "text": [
      "\niteration 700 / 1500: loss 22.955938"
     ]
    },
    {
     "name": "stdout",
     "output_type": "stream",
     "text": [
      "\niteration 800 / 1500: loss 17.094755"
     ]
    },
    {
     "name": "stdout",
     "output_type": "stream",
     "text": [
      "\niteration 900 / 1500: loss 12.566366"
     ]
    },
    {
     "name": "stdout",
     "output_type": "stream",
     "text": [
      "\niteration 1000 / 1500: loss 10.361091"
     ]
    },
    {
     "name": "stdout",
     "output_type": "stream",
     "text": [
      "\niteration 1100 / 1500: loss 7.981491"
     ]
    },
    {
     "name": "stdout",
     "output_type": "stream",
     "text": [
      "\niteration 1200 / 1500: loss 7.512046"
     ]
    },
    {
     "name": "stdout",
     "output_type": "stream",
     "text": [
      "\niteration 1300 / 1500: loss 6.534783"
     ]
    },
    {
     "name": "stdout",
     "output_type": "stream",
     "text": [
      "\niteration 1400 / 1500: loss 6.228783"
     ]
    },
    {
     "name": "stdout",
     "output_type": "stream",
     "text": [
      "\niteration 0 / 1500: loss 637.871917"
     ]
    },
    {
     "name": "stdout",
     "output_type": "stream",
     "text": [
      "\niteration 100 / 1500: loss 284.055308"
     ]
    },
    {
     "name": "stdout",
     "output_type": "stream",
     "text": [
      "\niteration 200 / 1500: loss 129.016099"
     ]
    },
    {
     "name": "stdout",
     "output_type": "stream",
     "text": [
      "\niteration 300 / 1500: loss 60.593382"
     ]
    },
    {
     "name": "stdout",
     "output_type": "stream",
     "text": [
      "\niteration 400 / 1500: loss 30.010307"
     ]
    },
    {
     "name": "stdout",
     "output_type": "stream",
     "text": [
      "\niteration 500 / 1500: loss 15.946632"
     ]
    },
    {
     "name": "stdout",
     "output_type": "stream",
     "text": [
      "\niteration 600 / 1500: loss 10.274223"
     ]
    },
    {
     "name": "stdout",
     "output_type": "stream",
     "text": [
      "\niteration 700 / 1500: loss 7.381430"
     ]
    },
    {
     "name": "stdout",
     "output_type": "stream",
     "text": [
      "\niteration 800 / 1500: loss 6.040805"
     ]
    },
    {
     "name": "stdout",
     "output_type": "stream",
     "text": [
      "\niteration 900 / 1500: loss 5.435534"
     ]
    },
    {
     "name": "stdout",
     "output_type": "stream",
     "text": [
      "\niteration 1000 / 1500: loss 5.675913"
     ]
    },
    {
     "name": "stdout",
     "output_type": "stream",
     "text": [
      "\niteration 1100 / 1500: loss 5.241987"
     ]
    },
    {
     "name": "stdout",
     "output_type": "stream",
     "text": [
      "\niteration 1200 / 1500: loss 5.970373"
     ]
    },
    {
     "name": "stdout",
     "output_type": "stream",
     "text": [
      "\niteration 1300 / 1500: loss 5.047016"
     ]
    },
    {
     "name": "stdout",
     "output_type": "stream",
     "text": [
      "\niteration 1400 / 1500: loss 4.609196"
     ]
    },
    {
     "name": "stdout",
     "output_type": "stream",
     "text": [
      "\niteration 0 / 1500: loss 1243.074424"
     ]
    },
    {
     "name": "stdout",
     "output_type": "stream",
     "text": [
      "\niteration 100 / 1500: loss 250.882815"
     ]
    },
    {
     "name": "stdout",
     "output_type": "stream",
     "text": [
      "\niteration 200 / 1500: loss 53.967437"
     ]
    },
    {
     "name": "stdout",
     "output_type": "stream",
     "text": [
      "\niteration 300 / 1500: loss 15.165931"
     ]
    },
    {
     "name": "stdout",
     "output_type": "stream",
     "text": [
      "\niteration 400 / 1500: loss 7.720830"
     ]
    },
    {
     "name": "stdout",
     "output_type": "stream",
     "text": [
      "\niteration 500 / 1500: loss 5.880608"
     ]
    },
    {
     "name": "stdout",
     "output_type": "stream",
     "text": [
      "\niteration 600 / 1500: loss 5.533624"
     ]
    },
    {
     "name": "stdout",
     "output_type": "stream",
     "text": [
      "\niteration 700 / 1500: loss 5.741450"
     ]
    },
    {
     "name": "stdout",
     "output_type": "stream",
     "text": [
      "\niteration 800 / 1500: loss 5.500560"
     ]
    },
    {
     "name": "stdout",
     "output_type": "stream",
     "text": [
      "\niteration 900 / 1500: loss 5.461920"
     ]
    },
    {
     "name": "stdout",
     "output_type": "stream",
     "text": [
      "\niteration 1000 / 1500: loss 4.879906"
     ]
    },
    {
     "name": "stdout",
     "output_type": "stream",
     "text": [
      "\niteration 1100 / 1500: loss 5.555233"
     ]
    },
    {
     "name": "stdout",
     "output_type": "stream",
     "text": [
      "\niteration 1200 / 1500: loss 5.570481"
     ]
    },
    {
     "name": "stdout",
     "output_type": "stream",
     "text": [
      "\niteration 1300 / 1500: loss 5.209826"
     ]
    },
    {
     "name": "stdout",
     "output_type": "stream",
     "text": [
      "\niteration 1400 / 1500: loss 5.666923"
     ]
    },
    {
     "name": "stdout",
     "output_type": "stream",
     "text": [
      "\niteration 0 / 1500: loss 2482.952130"
     ]
    },
    {
     "name": "stdout",
     "output_type": "stream",
     "text": [
      "\niteration 100 / 1500: loss 103.438511"
     ]
    },
    {
     "name": "stdout",
     "output_type": "stream",
     "text": [
      "\niteration 200 / 1500: loss 9.836634"
     ]
    },
    {
     "name": "stdout",
     "output_type": "stream",
     "text": [
      "\niteration 300 / 1500: loss 6.730375"
     ]
    },
    {
     "name": "stdout",
     "output_type": "stream",
     "text": [
      "\niteration 400 / 1500: loss 5.932956"
     ]
    },
    {
     "name": "stdout",
     "output_type": "stream",
     "text": [
      "\niteration 500 / 1500: loss 5.648188"
     ]
    },
    {
     "name": "stdout",
     "output_type": "stream",
     "text": [
      "\niteration 600 / 1500: loss 6.319575"
     ]
    },
    {
     "name": "stdout",
     "output_type": "stream",
     "text": [
      "\niteration 700 / 1500: loss 6.547526"
     ]
    },
    {
     "name": "stdout",
     "output_type": "stream",
     "text": [
      "\niteration 800 / 1500: loss 5.825519"
     ]
    },
    {
     "name": "stdout",
     "output_type": "stream",
     "text": [
      "\niteration 900 / 1500: loss 6.101564"
     ]
    },
    {
     "name": "stdout",
     "output_type": "stream",
     "text": [
      "\niteration 1000 / 1500: loss 6.599549"
     ]
    },
    {
     "name": "stdout",
     "output_type": "stream",
     "text": [
      "\niteration 1100 / 1500: loss 6.066503"
     ]
    },
    {
     "name": "stdout",
     "output_type": "stream",
     "text": [
      "\niteration 1200 / 1500: loss 6.305748"
     ]
    },
    {
     "name": "stdout",
     "output_type": "stream",
     "text": [
      "\niteration 1300 / 1500: loss 6.147164"
     ]
    },
    {
     "name": "stdout",
     "output_type": "stream",
     "text": [
      "\niteration 1400 / 1500: loss 6.291447"
     ]
    },
    {
     "name": "stdout",
     "output_type": "stream",
     "text": [
      "\niteration 0 / 1500: loss 50.579327"
     ]
    },
    {
     "name": "stdout",
     "output_type": "stream",
     "text": [
      "\niteration 100 / 1500: loss 39.817050"
     ]
    },
    {
     "name": "stdout",
     "output_type": "stream",
     "text": [
      "\niteration 200 / 1500: loss 37.007476"
     ]
    },
    {
     "name": "stdout",
     "output_type": "stream",
     "text": [
      "\niteration 300 / 1500: loss 34.488207"
     ]
    },
    {
     "name": "stdout",
     "output_type": "stream",
     "text": [
      "\niteration 400 / 1500: loss 34.031465"
     ]
    },
    {
     "name": "stdout",
     "output_type": "stream",
     "text": [
      "\niteration 500 / 1500: loss 32.167168"
     ]
    },
    {
     "name": "stdout",
     "output_type": "stream",
     "text": [
      "\niteration 600 / 1500: loss 30.967281"
     ]
    },
    {
     "name": "stdout",
     "output_type": "stream",
     "text": [
      "\niteration 700 / 1500: loss 28.801561"
     ]
    },
    {
     "name": "stdout",
     "output_type": "stream",
     "text": [
      "\niteration 800 / 1500: loss 28.291292"
     ]
    },
    {
     "name": "stdout",
     "output_type": "stream",
     "text": [
      "\niteration 900 / 1500: loss 28.558173"
     ]
    },
    {
     "name": "stdout",
     "output_type": "stream",
     "text": [
      "\niteration 1000 / 1500: loss 25.856451"
     ]
    },
    {
     "name": "stdout",
     "output_type": "stream",
     "text": [
      "\niteration 1100 / 1500: loss 26.140440"
     ]
    },
    {
     "name": "stdout",
     "output_type": "stream",
     "text": [
      "\niteration 1200 / 1500: loss 24.192356"
     ]
    },
    {
     "name": "stdout",
     "output_type": "stream",
     "text": [
      "\niteration 1300 / 1500: loss 24.540660"
     ]
    },
    {
     "name": "stdout",
     "output_type": "stream",
     "text": [
      "\niteration 1400 / 1500: loss 22.601910"
     ]
    },
    {
     "name": "stdout",
     "output_type": "stream",
     "text": [
      "\nlr 1.000000e-07 reg 1.000000e+03 train accuracy: 0.318959 val accuracy: 0.323000"
     ]
    }
   ],
   "source": [
    "# Use the validation set to tune hyperparameters (regularization strength and\n",
    "# learning rate). You should experiment with different ranges for the learning\n",
    "# rates and regularization strengths; if you are careful you should be able to\n",
    "# get a classification accuracy of about 0.4 on the validation set.\n",
    "from cs231n.classifiers import LinearSVM\n",
    "#learning_rates = [2e-7,1e-7,0.5e-7, 2e-6, 1e-6 ,0.5e-6,0.7e-6, 2e-7,1e-5,0.5e-5]\n",
    "learning_rates= (1e-7)* np.ones((10,))\n",
    "regularization_strengths = [8e6, 1e5, 2e5, 4e5,8e5,1e4 ,2e4 ,4e4,8e4,1e3]\n",
    "#regularization_strengths=np.zeros((10,))\n",
    "\n",
    "# results is dictionary mapping tuples of the form\n",
    "# (learning_rate, regularization_strength) to tuples of the form\n",
    "# (training_accuracy, validation_accuracy). The accuracy is simply the fraction\n",
    "# of data points that are correctly classified.\n",
    "results = {}\n",
    "best_val = -1   # The highest validation accuracy that we have seen so far.\n",
    "best_svm = None # The LinearSVM object that achieved the highest validation rate.\n",
    "\n",
    "################################################################################\n",
    "# TODO:                                                                        #\n",
    "# Write code that chooses the best hyperparameters by tuning on the validation #\n",
    "# set. For each combination of hyperparameters, train a linear SVM on the      #\n",
    "# training set, compute its accuracy on the training and validation sets, and  #\n",
    "# store these numbers in the results dictionary. In addition, store the best   #\n",
    "# validation accuracy in best_val and the LinearSVM object that achieves this  #\n",
    "# accuracy in best_svm.                                                        #\n",
    "#                                                                              #\n",
    "# Hint: You should use a small value for num_iters as you develop your         #\n",
    "# validation code so that the SVMs don't take much time to train; once you are #\n",
    "# confident that your validation code works, you should rerun the validation   #\n",
    "# code with a larger value for num_iters.                                      #\n",
    "################################################################################\n",
    "for i in range(len(learning_rates)):\n",
    "    alpha=learning_rates[i]\n",
    "    reg=regularization_strengths[i]\n",
    "    s = LinearSVM()\n",
    "    s.train(X_train,y_train,learning_rate=alpha, reg=reg,\n",
    "            num_iters=1500, verbose=True)\n",
    "    y_pred = s.predict(X_train)\n",
    "    train_acc= (np.mean(y_train == y_pred) )\n",
    "    y_val_pred = s.predict(X_val)\n",
    "    val_acc=(np.mean(y_val == y_val_pred))\n",
    "    results[(alpha,reg)]=(train_acc, val_acc)\n",
    "    if(val_acc>best_val):\n",
    "        best_val=val_acc\n",
    "        best_svm=s\n",
    "    \n",
    "    \n",
    "################################################################################\n",
    "#                              END OF YOUR CODE                                #\n",
    "################################################################################\n",
    "    \n",
    "# Print out results.\n",
    "for lr, reg in sorted(results):\n",
    "    train_accuracy, val_accuracy = results[(lr, reg)]\n",
    "    print('lr %e reg %e train accuracy: %f val accuracy: %f' % (\n",
    "                lr, reg, train_accuracy, val_accuracy))\n",
    "    \n",
    "print('best validation accuracy achieved during cross-validation: %f' % best_val)"
   ]
  },
  {
   "cell_type": "code",
   "execution_count": 31,
   "metadata": {
    "collapsed": false
   },
   "outputs": [
    {
     "data": {
      "image/png": "[encoded data removed]",
      "text/plain": [
       "<matplotlib.figure.Figure at 0x7f79a447a3c8>"
      ]
     },
     "metadata": {},
     "output_type": "display_data"
    }
   ],
   "source": [
    "# Visualize the cross-validation results\n",
    "import math\n",
    "x_scatter = [math.log10(x[0]) for x in results]\n",
    "y_scatter = [math.log10(x[1]) for x in results]\n",
    "\n",
    "# plot training accuracy\n",
    "marker_size = 100\n",
    "colors = [results[x][0] for x in results]\n",
    "plt.subplot(2, 1, 1)\n",
    "plt.scatter(x_scatter, y_scatter, marker_size, c=colors)\n",
    "plt.colorbar()\n",
    "plt.xlabel('log learning rate')\n",
    "plt.ylabel('log regularization strength')\n",
    "plt.title('CIFAR-10 training accuracy')\n",
    "\n",
    "# plot validation accuracy\n",
    "colors = [results[x][1] for x in results] # default size of markers is 20\n",
    "plt.subplot(2, 1, 2)\n",
    "plt.scatter(x_scatter, y_scatter, marker_size, c=colors)\n",
    "plt.colorbar()\n",
    "plt.xlabel('log learning rate')\n",
    "plt.ylabel('log regularization strength')\n",
    "plt.title('CIFAR-10 validation accuracy')\n",
    "plt.show()"
   ]
  },
  {
   "cell_type": "code",
   "execution_count": 32,
   "metadata": {
    "collapsed": false
   },
   "outputs": [
    {
     "name": "stdout",
     "output_type": "stream",
     "text": [
      "linear SVM on raw pixels final test set accuracy: 0.378000\n"
     ]
    }
   ],
   "source": [
    "# Evaluate the best svm on test set\n",
    "y_test_pred = best_svm.predict(X_test)\n",
    "test_accuracy = np.mean(y_test == y_test_pred)\n",
    "print('linear SVM on raw pixels final test set accuracy: %f' % test_accuracy)"
   ]
  },
  {
   "cell_type": "code",
   "execution_count": 33,
   "metadata": {
    "collapsed": false
   },
   "outputs": [
    {
     "data": {
      "image/png": "[encoded data removed]",
      "text/plain": [
       "<matplotlib.figure.Figure at 0x7f79a44548d0>"
      ]
     },
     "metadata": {},
     "output_type": "display_data"
    }
   ],
   "source": [
    "# Visualize the learned weights for each class.\n",
    "# Depending on your choice of learning rate and regularization strength, these may\n",
    "# or may not be nice to look at.\n",
    "w = best_svm.W[:-1,:] # strip out the bias\n",
    "w = w.reshape(32, 32, 3, 10)\n",
    "w_min, w_max = np.min(w), np.max(w)\n",
    "classes = ['plane', 'car', 'bird', 'cat', 'deer', 'dog', 'frog', 'horse', 'ship', 'truck']\n",
    "for i in range(10):\n",
    "    plt.subplot(2, 5, i + 1)\n",
    "      \n",
    "    # Rescale the weights to be between 0 and 255\n",
    "    wimg = 255.0 * (w[:, :, :, i].squeeze() - w_min) / (w_max - w_min)\n",
    "    plt.imshow(wimg.astype('uint8'))\n",
    "    plt.axis('off')\n",
    "    plt.title(classes[i])"
   ]
  },
  {
   "cell_type": "markdown",
   "metadata": {},
   "source": [
    "### Inline question 2:\n",
    "Describe what your visualized SVM weights look like, and offer a brief explanation for why they look they way that they do.\n",
    "\n",
    "**Your answer:** *fill this in*"
   ]
  }
 ],
 "metadata": {
  "kernelspec": {
   "display_name": "Python 2",
   "name": "python2",
   "language": "python"
  },
  "language_info": {
   "mimetype": "text/x-python",
   "nbconvert_exporter": "python",
   "name": "python",
   "file_extension": ".py",
   "version": "2.7.6",
   "pygments_lexer": "ipython2",
   "codemirror_mode": {
    "version": 2.0,
    "name": "ipython"
   }
  }
 },
 "nbformat": 4,
 "nbformat_minor": 0
}